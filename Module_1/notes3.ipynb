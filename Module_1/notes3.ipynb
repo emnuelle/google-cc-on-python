{
 "cells": [
  {
   "cell_type": "markdown",
   "metadata": {},
   "source": [
    "# Module 1 Graded Assessment\n",
    "(This is a module 1 review)\n"
   ]
  },
  {
   "cell_type": "markdown",
   "metadata": {},
   "source": [
    "\n",
    "####  Skill 1\n",
    "Use the print() function to output a string "
   ]
  },
  {
   "cell_type": "code",
   "execution_count": 2,
   "metadata": {},
   "outputs": [
    {
     "name": "stdout",
     "output_type": "stream",
     "text": [
      "I love Python!\n",
      "360\n",
      "1440\n",
      "48\n"
     ]
    }
   ],
   "source": [
    "# Syntax for printing a string of text\n",
    "print(\"I love Python!\")\n",
    "\n",
    "\n",
    "# Syntax for printing numeric values\n",
    "print(360)\n",
    "print(32*45)\n",
    "\n",
    "\n",
    "# Syntax for printing the value of a variable\n",
    "value = 8*6\n",
    "print(value)"
   ]
  },
  {
   "cell_type": "markdown",
   "metadata": {},
   "source": [
    "#### Skill 2\n",
    "Use arithmetic operators, with a focus on exponents"
   ]
  },
  {
   "cell_type": "code",
   "execution_count": null,
   "metadata": {},
   "outputs": [],
   "source": [
    "# Multiplication, division, addition, and subtraction\n",
    "print(3*8/2+5-1)\n",
    " \n",
    "# Exponents\n",
    "print(4**6) # Syntax means 4 to the power of 6\n",
    "print(4**2) # To square a number\n",
    "print(4**3) # To cube a number\n",
    "print(4**0.5) # To find the square root of a number\n",
    "\n",
    "# To calculate how many different possible combinations can be\n",
    "# formed using a set of \"x\" characters with each character in \"x\"\n",
    "# having \"y\" number of possible values, you will need to use an \n",
    "# exponent for the calculation:\n",
    "x = 4\n",
    "y = 26\n",
    "print(y**x)"
   ]
  },
  {
   "cell_type": "markdown",
   "metadata": {},
   "source": [
    "#### Skill 3\n",
    "Use variables with assignment and arithmetic operators"
   ]
  },
  {
   "cell_type": "code",
   "execution_count": null,
   "metadata": {},
   "outputs": [],
   "source": [
    "# Assignment of values to the variables:\n",
    "years = 10\n",
    "weeks_in_a_year = 52\n",
    "# This variable is assigned an arithmetic calculation:\n",
    "weeks_in_a_decade = years * weeks_in_a_year\n",
    "# Prints the calculation stored in the \"weeks_in_a_decade\" variable:\n",
    "print(weeks_in_a_decade)"
   ]
  }
 ],
 "metadata": {
  "kernelspec": {
   "display_name": "Python 3",
   "language": "python",
   "name": "python3"
  },
  "language_info": {
   "codemirror_mode": {
    "name": "ipython",
    "version": 3
   },
   "file_extension": ".py",
   "mimetype": "text/x-python",
   "name": "python",
   "nbconvert_exporter": "python",
   "pygments_lexer": "ipython3",
   "version": "3.12.0"
  }
 },
 "nbformat": 4,
 "nbformat_minor": 2
}
